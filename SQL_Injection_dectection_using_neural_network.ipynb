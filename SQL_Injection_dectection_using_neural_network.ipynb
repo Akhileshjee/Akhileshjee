SQL_Injection_dectection_using_neural_network.ipynb
print("Project Name :- SQL Injection dectection using neural network")
# Required library

import numpy as np # linear algebra
import pandas as pd # data processing, CSV file I/O (e.g. pd.read_csv)
import glob
import time
import pandas as pd
# from xml.dom import minidom
from nltk import ngrams
from nltk.tokenize import sent_tokenize
import nltk
nltk.download('punkt')
nltk.download('stopwords')
nltk.download('wordnet')
from nltk.stem import PorterStemmer
from nltk.stem import PorterStemmer
from nltk.tokenize import sent_tokenize, word_tokenize
from nltk.stem import WordNetLemmatizer
from nltk.corpus import stopwords
from nltk.tokenize import word_tokenize
#Uploding dataset

from google.colab import files
uploaded = files.upload()

#Reading dataset

import pandas as pd
df = pd.read_csv("sqli.csv",encoding='utf-16')
print (df)
